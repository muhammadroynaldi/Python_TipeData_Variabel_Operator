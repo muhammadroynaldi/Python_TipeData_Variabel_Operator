{
 "cells": [
  {
   "cell_type": "code",
   "execution_count": 30,
   "metadata": {},
   "outputs": [],
   "source": [
    "import pandas as pd\n",
    "import numpy as np"
   ]
  },
  {
   "cell_type": "code",
   "execution_count": 45,
   "metadata": {},
   "outputs": [
    {
     "data": {
      "text/plain": [
       "array([[ 2,  4,  6],\n",
       "       [ 8, 10, 12]])"
      ]
     },
     "execution_count": 45,
     "metadata": {},
     "output_type": "execute_result"
    }
   ],
   "source": [
    "a = np.array([2,4,6,8,10,12])\n",
    "a.reshape((2,3))"
   ]
  },
  {
   "cell_type": "code",
   "execution_count": 26,
   "metadata": {},
   "outputs": [],
   "source": [
    "nama = \"Aldi\" #string\n",
    "umur = 22   #integer\n",
    "ipk = 3.98 #float\n",
    "cumlaude = True #boolean"
   ]
  },
  {
   "cell_type": "code",
   "execution_count": 2,
   "metadata": {},
   "outputs": [
    {
     "name": "stdout",
     "output_type": "stream",
     "text": [
      "Aldi\n",
      "22\n"
     ]
    }
   ],
   "source": [
    "print(nama)\n",
    "print(umur)"
   ]
  },
  {
   "cell_type": "code",
   "execution_count": 3,
   "metadata": {},
   "outputs": [
    {
     "data": {
      "text/plain": [
       "int"
      ]
     },
     "execution_count": 3,
     "metadata": {},
     "output_type": "execute_result"
    }
   ],
   "source": [
    "type(umur) #type adalah sebuah function untuk mengetahui dipe data dari sebuah variabel"
   ]
  },
  {
   "cell_type": "code",
   "execution_count": 4,
   "metadata": {},
   "outputs": [
    {
     "data": {
      "text/plain": [
       "list"
      ]
     },
     "execution_count": 4,
     "metadata": {},
     "output_type": "execute_result"
    }
   ],
   "source": [
    "list = [\"Aldi\", \"Roy\", \"Muhammad\"]\n",
    "type(list)"
   ]
  },
  {
   "cell_type": "code",
   "execution_count": 5,
   "metadata": {},
   "outputs": [
    {
     "data": {
      "text/plain": [
       "'Roy'"
      ]
     },
     "execution_count": 5,
     "metadata": {},
     "output_type": "execute_result"
    }
   ],
   "source": [
    "list[1]"
   ]
  },
  {
   "cell_type": "markdown",
   "metadata": {},
   "source": [
    "## Challange times"
   ]
  },
  {
   "cell_type": "code",
   "execution_count": 7,
   "metadata": {},
   "outputs": [
    {
     "name": "stdout",
     "output_type": "stream",
     "text": [
      "<class 'str'>\n",
      "<class 'int'>\n",
      "<class 'float'>\n",
      "<class 'bool'>\n",
      "<class 'list'>\n",
      "<class 'dict'>\n",
      "<class 'set'>\n"
     ]
    }
   ],
   "source": [
    "print(type(\"Adam\"))\n",
    "print(type(24))\n",
    "print(type(11.3))\n",
    "print(type(True))\n",
    "print(type([\"jawa\", \"Sunda\"]))\n",
    "print(type({\"nama\" : \"Adam\", \"umur\" : 22}))\n",
    "print(type({\"Adam\", \"hasan\"}))"
   ]
  },
  {
   "cell_type": "markdown",
   "metadata": {},
   "source": [
    "### Dasar Operasi Tipe Data\n",
    "1. penjumlahan, contoh = 5 + 5 : 10\n",
    "2. pengurangan, contoh = 10 - 5 : 5\n",
    "3. perkalian, contoh = 5 * 5 : 25\n",
    "4. pembagian , contoh = 10 / 2 : 5\n",
    "5. pangkat, contoh = 5 ** 3 : 125\n",
    "6. pembagian tanpa koma, contoh = 5 // 3 : 1\n",
    "7. modulo/sisa pembagian, contoh = 5 % 3 : 2 "
   ]
  },
  {
   "cell_type": "code",
   "execution_count": 8,
   "metadata": {},
   "outputs": [
    {
     "data": {
      "text/plain": [
       "5"
      ]
     },
     "execution_count": 8,
     "metadata": {},
     "output_type": "execute_result"
    }
   ],
   "source": [
    "a = 2\n",
    "b = 3\n",
    "\n",
    "#operasi pertambahan\n",
    "penjumlahan = a + b\n",
    "penjumlahan"
   ]
  },
  {
   "cell_type": "code",
   "execution_count": 9,
   "metadata": {},
   "outputs": [
    {
     "data": {
      "text/plain": [
       "6"
      ]
     },
     "execution_count": 9,
     "metadata": {},
     "output_type": "execute_result"
    }
   ],
   "source": [
    "a = 2\n",
    "b = 3\n",
    "\n",
    "#operasi perkalian\n",
    "perkalian = a * b\n",
    "perkalian"
   ]
  },
  {
   "cell_type": "code",
   "execution_count": 11,
   "metadata": {},
   "outputs": [
    {
     "data": {
      "text/plain": [
       "8"
      ]
     },
     "execution_count": 11,
     "metadata": {},
     "output_type": "execute_result"
    }
   ],
   "source": [
    "a = 2\n",
    "b = 3\n",
    "\n",
    "#operasi pangkat\n",
    "pangkat = a ** b\n",
    "pangkat"
   ]
  },
  {
   "cell_type": "code",
   "execution_count": 13,
   "metadata": {},
   "outputs": [
    {
     "data": {
      "text/plain": [
       "2.0"
      ]
     },
     "execution_count": 13,
     "metadata": {},
     "output_type": "execute_result"
    }
   ],
   "source": [
    "a = 4\n",
    "b = 1/2\n",
    "\n",
    "#operasi akar\n",
    "akar = a ** b\n",
    "akar"
   ]
  },
  {
   "cell_type": "code",
   "execution_count": 15,
   "metadata": {},
   "outputs": [
    {
     "data": {
      "text/plain": [
       "False"
      ]
     },
     "execution_count": 15,
     "metadata": {},
     "output_type": "execute_result"
    }
   ],
   "source": [
    "a = 2\n",
    "b = 3\n",
    "\n",
    "#operasi pengecekan apakah a sama dengan b\n",
    "a == b\n",
    "2 == 3"
   ]
  },
  {
   "cell_type": "code",
   "execution_count": 17,
   "metadata": {},
   "outputs": [
    {
     "data": {
      "text/plain": [
       "False"
      ]
     },
     "execution_count": 17,
     "metadata": {},
     "output_type": "execute_result"
    }
   ],
   "source": [
    "a = 2\n",
    "b = 3\n",
    "\n",
    "#operasi lebih dari\n",
    "a > b\n",
    "2 > 3"
   ]
  },
  {
   "cell_type": "markdown",
   "metadata": {},
   "source": [
    "### challange times 1"
   ]
  },
  {
   "cell_type": "code",
   "execution_count": 20,
   "metadata": {},
   "outputs": [
    {
     "name": "stdout",
     "output_type": "stream",
     "text": [
      "3500000\n",
      "350.0\n",
      "10000.0\n"
     ]
    }
   ],
   "source": [
    "price = 10000\n",
    "quantity = 350\n",
    "\n",
    "total_revenue = price * quantity\n",
    "avg_revenue = (price * quantity) / price\n",
    "avg_revenue2 = (price * quantity) / quantity\n",
    "\n",
    "print(total_revenue)\n",
    "print(avg_revenue)\n",
    "print(avg_revenue2)"
   ]
  },
  {
   "cell_type": "markdown",
   "metadata": {},
   "source": [
    "### challange times 2"
   ]
  },
  {
   "cell_type": "code",
   "execution_count": 22,
   "metadata": {},
   "outputs": [
    {
     "name": "stdout",
     "output_type": "stream",
     "text": [
      "5.0\n"
     ]
    }
   ],
   "source": [
    "#pythagoras\n",
    "a = 3\n",
    "b = 4\n",
    "# pangkat = 2\n",
    "# akar = 1/2\n",
    "\n",
    "c = ((a ** 2) + (b ** 2)) ** (1/2)\n",
    "print(c)"
   ]
  },
  {
   "cell_type": "code",
   "execution_count": 23,
   "metadata": {},
   "outputs": [
    {
     "data": {
      "text/plain": [
       "25"
      ]
     },
     "execution_count": 23,
     "metadata": {},
     "output_type": "execute_result"
    }
   ],
   "source": [
    "pow(5,2) #pow adalah function untuk menghitung pangkat"
   ]
  },
  {
   "cell_type": "code",
   "execution_count": 24,
   "metadata": {},
   "outputs": [
    {
     "data": {
      "text/plain": [
       "5.0"
      ]
     },
     "execution_count": 24,
     "metadata": {},
     "output_type": "execute_result"
    }
   ],
   "source": [
    "pow(pow(a,2) + pow(b,2), 0.5)"
   ]
  },
  {
   "cell_type": "code",
   "execution_count": 4,
   "metadata": {},
   "outputs": [
    {
     "name": "stdout",
     "output_type": "stream",
     "text": [
      "Muhammad Roynaldi\n"
     ]
    }
   ],
   "source": [
    "#String Operations\n",
    "namaDepan = \"Muhammad\"\n",
    "namaBelakang = \"Roynaldi\"\n",
    "spasi = \" \"\n",
    "\n",
    "nama_lengkap = namaDepan + spasi + namaBelakang\n",
    "print(nama_lengkap)"
   ]
  },
  {
   "cell_type": "code",
   "execution_count": 6,
   "metadata": {},
   "outputs": [
    {
     "data": {
      "text/plain": [
       "'KALIMAT'"
      ]
     },
     "execution_count": 6,
     "metadata": {},
     "output_type": "execute_result"
    }
   ],
   "source": [
    "huruBesar = 'kalimat'\n",
    "huruBesar.upper()"
   ]
  },
  {
   "cell_type": "code",
   "execution_count": 10,
   "metadata": {},
   "outputs": [
    {
     "data": {
      "text/plain": [
       "'kalimat'"
      ]
     },
     "execution_count": 10,
     "metadata": {},
     "output_type": "execute_result"
    }
   ],
   "source": [
    "huruKecil = 'KALIMAT'\n",
    "huruKecil.lower()"
   ]
  },
  {
   "cell_type": "code",
   "execution_count": 11,
   "metadata": {},
   "outputs": [
    {
     "data": {
      "text/plain": [
       "True"
      ]
     },
     "execution_count": 11,
     "metadata": {},
     "output_type": "execute_result"
    }
   ],
   "source": [
    "kategori = 'Bakso'\n",
    "kategori\n",
    "kategori == 'Bakso'"
   ]
  },
  {
   "cell_type": "markdown",
   "metadata": {},
   "source": [
    "### Challange times"
   ]
  },
  {
   "cell_type": "code",
   "execution_count": 12,
   "metadata": {},
   "outputs": [
    {
     "name": "stdout",
     "output_type": "stream",
     "text": [
      "0821-3655-5631\n",
      "Sebelum: 0821-3655-5631\n",
      "Sesudah: 082136555631\n"
     ]
    }
   ],
   "source": [
    "#nomer 1\n",
    "phone_number = \"0821-3655-5631\"\n",
    "print(phone_number)\n",
    "sesudah = phone_number.replace(\"-\",\"\")\n",
    "print(f\"Sebelum: {phone_number}\")\n",
    "print(f\"Sesudah: {sesudah}\")\n"
   ]
  },
  {
   "cell_type": "code",
   "execution_count": 15,
   "metadata": {},
   "outputs": [
    {
     "name": "stdout",
     "output_type": "stream",
     "text": [
      "kkn di desa penari\n"
     ]
    },
    {
     "data": {
      "text/plain": [
       "'KKN Di Desa Penari'"
      ]
     },
     "execution_count": 15,
     "metadata": {},
     "output_type": "execute_result"
    }
   ],
   "source": [
    "#nomer 2\n",
    "text = \"kkn di desa penari\"\n",
    "# KKN Di Desa Penari\n",
    "print(text)\n",
    "text[:3].upper() + \" \" + text[4:].title()"
   ]
  },
  {
   "cell_type": "code",
   "execution_count": 16,
   "metadata": {},
   "outputs": [
    {
     "data": {
      "text/plain": [
       "True"
      ]
     },
     "execution_count": 16,
     "metadata": {},
     "output_type": "execute_result"
    }
   ],
   "source": [
    "#boolean/logical operation\n",
    "\n",
    "mei = 10000\n",
    "juni = 12000\n",
    "\n",
    "mei < juni "
   ]
  },
  {
   "cell_type": "code",
   "execution_count": 17,
   "metadata": {},
   "outputs": [
    {
     "data": {
      "text/plain": [
       "False"
      ]
     },
     "execution_count": 17,
     "metadata": {},
     "output_type": "execute_result"
    }
   ],
   "source": [
    "nama1 = 'roy'\n",
    "nama2 = 'aldi'\n",
    "\n",
    "nama1 == nama2"
   ]
  },
  {
   "cell_type": "code",
   "execution_count": 18,
   "metadata": {},
   "outputs": [
    {
     "data": {
      "text/plain": [
       "False"
      ]
     },
     "execution_count": 18,
     "metadata": {},
     "output_type": "execute_result"
    }
   ],
   "source": [
    "a = 6\n",
    "b = 7\n",
    "c = 1\n",
    "\n",
    "(a < b) and (a < c)"
   ]
  },
  {
   "cell_type": "code",
   "execution_count": 19,
   "metadata": {},
   "outputs": [
    {
     "data": {
      "text/plain": [
       "True"
      ]
     },
     "execution_count": 19,
     "metadata": {},
     "output_type": "execute_result"
    }
   ],
   "source": [
    "(a < b) or (a < c)"
   ]
  },
  {
   "cell_type": "code",
   "execution_count": 20,
   "metadata": {},
   "outputs": [
    {
     "data": {
      "text/plain": [
       "True"
      ]
     },
     "execution_count": 20,
     "metadata": {},
     "output_type": "execute_result"
    }
   ],
   "source": [
    "#potential target pelanggan :\n",
    "# 1. Kategori tidak bernilai sepeda\n",
    "# 2. Jumlah visit lebih dari sama dengan 100\n",
    "# 3. Jumlah order lebih besar sama dengan >= 67\n",
    "\n",
    "kategori1 = 'Makanan'\n",
    "jumlah_order = 67\n",
    "jumlah_visit = 102\n",
    "\n",
    "#jawab\n",
    "(kategori1 != 'Sepeda') and (jumlah_order >= 67) and (jumlah_visit >= 100)"
   ]
  },
  {
   "cell_type": "markdown",
   "metadata": {},
   "source": [
    "# Perubahan tipe data "
   ]
  },
  {
   "cell_type": "code",
   "execution_count": 21,
   "metadata": {},
   "outputs": [
    {
     "name": "stdout",
     "output_type": "stream",
     "text": [
      "<class 'str'>\n",
      "<class 'int'>\n",
      "<class 'int'>\n"
     ]
    }
   ],
   "source": [
    "a = 1 #int\n",
    "a = str(a) #dirubah menjadi string\n",
    "\n",
    "b = '082136555631' # string\n",
    "b = int(b) #dirubah menjadi int\n",
    "\n",
    "c = 123.011 #float\n",
    "c = int(c) #dirubah menjadi int\n",
    "\n",
    "print(type(a))\n",
    "print(type(b))\n",
    "print(type(c))"
   ]
  },
  {
   "cell_type": "markdown",
   "metadata": {},
   "source": [
    "### challage time "
   ]
  },
  {
   "cell_type": "code",
   "execution_count": 22,
   "metadata": {},
   "outputs": [
    {
     "data": {
      "text/plain": [
       "True"
      ]
     },
     "execution_count": 22,
     "metadata": {},
     "output_type": "execute_result"
    }
   ],
   "source": [
    "#soal 1\n",
    "a = 12\n",
    "b = 20\n",
    "c = 16\n",
    "\n",
    "#jawab\n",
    "(pow(a,2) + pow(b,2) == pow(c,2)) or \\\n",
    "(pow(a,2) + pow(c,2) == pow(b,2)) or \\\n",
    "(pow(b,2) + pow(c,2) == pow(a,2))"
   ]
  },
  {
   "cell_type": "code",
   "execution_count": 25,
   "metadata": {},
   "outputs": [
    {
     "name": "stdout",
     "output_type": "stream",
     "text": [
      "2000\n",
      "1200\n",
      "3200\n",
      "Total = 6400\n"
     ]
    }
   ],
   "source": [
    "#soal 2\n",
    "penjualan_1 = '2,000'\n",
    "penjualan_2 = '1,200'\n",
    "penjualan_3 = '3,200'\n",
    "\n",
    "#jawab\n",
    "p1 = penjualan_1.replace(',','')\n",
    "p2 = penjualan_2.replace(',','')\n",
    "p3 = penjualan_3.replace(',','')\n",
    "print(p1)\n",
    "print(p2)\n",
    "print(p3)\n",
    "p1 = int(p1)\n",
    "p2 = int(p2)\n",
    "p3 = int(p3)\n",
    "\n",
    "total = p1 + p2 + p3\n",
    "print(f\"Total = {total}\")\n"
   ]
  },
  {
   "cell_type": "code",
   "execution_count": null,
   "metadata": {},
   "outputs": [],
   "source": []
  }
 ],
 "metadata": {
  "kernelspec": {
   "display_name": "Python 3",
   "language": "python",
   "name": "python3"
  },
  "language_info": {
   "codemirror_mode": {
    "name": "ipython",
    "version": 3
   },
   "file_extension": ".py",
   "mimetype": "text/x-python",
   "name": "python",
   "nbconvert_exporter": "python",
   "pygments_lexer": "ipython3",
   "version": "3.11.3"
  },
  "orig_nbformat": 4
 },
 "nbformat": 4,
 "nbformat_minor": 2
}
